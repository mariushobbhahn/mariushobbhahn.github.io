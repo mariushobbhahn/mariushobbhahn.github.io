{
 "cells": [
  {
   "cell_type": "code",
   "execution_count": 1,
   "metadata": {},
   "outputs": [],
   "source": [
    "import numpy as np"
   ]
  },
  {
   "cell_type": "code",
   "execution_count": 5,
   "metadata": {},
   "outputs": [
    {
     "name": "stdout",
     "output_type": "stream",
     "text": [
      "input 10 mean: 0.663; std: 0.002\n",
      "input 25 mean: 0.711; std: 0.003\n",
      "input 50 mean: 0.681; std: 0.004\n",
      "input 100 mean: 0.675; std: 0.002\n",
      "input 200 mean: 0.658; std: 0.005\n"
     ]
    }
   ],
   "source": [
    "# Experiment 1: size of noise input\n",
    "\n",
    "input_10 = np.array([0.6606, 0.6627, 0.6670, 0.6629, 0.6618])\n",
    "input_25 = np.array([0.7099, 0.7152, 0.7072, 0.7102, 0.7135])\n",
    "input_50 = np.array([0.6874, 0.6759, 0.6794, 0.6785, 0.6857])\n",
    "input_100 = np.array([0.6767, 0.6725, 0.6739, 0.6717, 0.6782])\n",
    "input_200 = np.array([0.6494, 0.6599, 0.6657, 0.6569, 0.6578])\n",
    "\n",
    "print(\"input 10 mean: {:.03f}; std: {:.03f}\".format(np.mean(input_10), np.std(input_10)))\n",
    "print(\"input 25 mean: {:.03f}; std: {:.03f}\".format(np.mean(input_25), np.std(input_25)))\n",
    "print(\"input 50 mean: {:.03f}; std: {:.03f}\".format(np.mean(input_50), np.std(input_50)))\n",
    "print(\"input 100 mean: {:.03f}; std: {:.03f}\".format(np.mean(input_100), np.std(input_100)))\n",
    "print(\"input 200 mean: {:.03f}; std: {:.03f}\".format(np.mean(input_200), np.std(input_200)))"
   ]
  },
  {
   "cell_type": "code",
   "execution_count": 6,
   "metadata": {},
   "outputs": [
    {
     "name": "stdout",
     "output_type": "stream",
     "text": [
      "alpha 1 mean: 0.711; std: 0.003\n",
      "alpha 0.5 mean: 0.724; std: 0.002\n",
      "alpha 0.1 mean: 0.647; std: 0.003\n",
      "alpha 2 mean: 0.680; std: 0.005\n"
     ]
    }
   ],
   "source": [
    "# Experiment 2: different update speeds\n",
    "\n",
    "alpha_1 = np.array([0.7099, 0.7152, 0.7072, 0.7102, 0.7135])\n",
    "alpha_05 = np.array([0.7201, 0.7252, 0.7273, 0.7248, 0.7246])\n",
    "alpha_01 = np.array([0.6510, 0.6441, 0.6424, 0.6498, 0.6460])\n",
    "alpha_2 = np.array([0.6810, 0.6817, 0.6832, 0.6713, 0.6847])\n",
    "\n",
    "print(\"alpha 1 mean: {:.03f}; std: {:.03f}\".format(np.mean(alpha_1), np.std(alpha_1)))\n",
    "print(\"alpha 0.5 mean: {:.03f}; std: {:.03f}\".format(np.mean(alpha_05), np.std(alpha_05)))\n",
    "print(\"alpha 0.1 mean: {:.03f}; std: {:.03f}\".format(np.mean(alpha_01), np.std(alpha_01)))\n",
    "print(\"alpha 2 mean: {:.03f}; std: {:.03f}\".format(np.mean(alpha_2), np.std(alpha_2)))"
   ]
  },
  {
   "cell_type": "code",
   "execution_count": 7,
   "metadata": {},
   "outputs": [
    {
     "name": "stdout",
     "output_type": "stream",
     "text": [
      "after 1 mean: 0.721; std: 0.003\n",
      "after 2 mean: 0.725; std: 0.004\n",
      "after 5 mean: 0.726; std: 0.004\n",
      "after 10 mean: 0.728; std: 0.004\n",
      "after 25 mean: 0.723; std: 0.005\n",
      "after 50 mean: 0.715; std: 0.002\n",
      "after 100 mean: 0.701; std: 0.003\n"
     ]
    }
   ],
   "source": [
    "# Experiment 3: update after iter\n",
    "\n",
    "after_1 = np.array([0.7233, 0.7206, 0.7238, 0.7157, 0.7211])\n",
    "after_2 = np.array([0.7186, 0.7246, 0.7315, 0.7279, 0.7238])\n",
    "after_5 = np.array([0.7315, 0.7265, 0.7211, 0.7279, 0.7234])\n",
    "after_10 = np.array([0.7252, 0.7248, 0.7345, 0.7258, 0.7279])\n",
    "after_25 = np.array([0.7246, 0.7193, 0.7168, 0.7293, 0.7258])\n",
    "after_50 = np.array([0.7131, 0.7156, 0.7160, 0.7176, 0.7124])\n",
    "after_100 = np.array([0.6962, 0.7009, 0.7041, 0.7031, 0.7030])\n",
    "\n",
    "print(\"after 1 mean: {:.03f}; std: {:.03f}\".format(np.mean(after_1), np.std(after_1)))\n",
    "print(\"after 2 mean: {:.03f}; std: {:.03f}\".format(np.mean(after_2), np.std(after_2)))\n",
    "print(\"after 5 mean: {:.03f}; std: {:.03f}\".format(np.mean(after_5), np.std(after_5)))\n",
    "print(\"after 10 mean: {:.03f}; std: {:.03f}\".format(np.mean(after_10), np.std(after_10)))\n",
    "print(\"after 25 mean: {:.03f}; std: {:.03f}\".format(np.mean(after_25), np.std(after_25)))\n",
    "print(\"after 50 mean: {:.03f}; std: {:.03f}\".format(np.mean(after_50), np.std(after_50)))\n",
    "print(\"after 100 mean: {:.03f}; std: {:.03f}\".format(np.mean(after_100), np.std(after_100)))"
   ]
  },
  {
   "cell_type": "code",
   "execution_count": null,
   "metadata": {},
   "outputs": [],
   "source": []
  }
 ],
 "metadata": {
  "kernelspec": {
   "display_name": "Python 3",
   "language": "python",
   "name": "python3"
  },
  "language_info": {
   "codemirror_mode": {
    "name": "ipython",
    "version": 3
   },
   "file_extension": ".py",
   "mimetype": "text/x-python",
   "name": "python",
   "nbconvert_exporter": "python",
   "pygments_lexer": "ipython3",
   "version": "3.7.3"
  }
 },
 "nbformat": 4,
 "nbformat_minor": 2
}
